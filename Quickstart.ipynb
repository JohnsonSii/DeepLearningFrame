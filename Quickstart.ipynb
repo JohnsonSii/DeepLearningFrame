{
 "cells": [
  {
   "cell_type": "markdown",
   "metadata": {},
   "source": [
    "# QUICKSTART\n",
    "\n",
    "本节介绍了机器学习中常见任务的API。请参考每一节中的链接来深入了解。"
   ]
  },
  {
   "cell_type": "markdown",
   "metadata": {},
   "source": [
    "## 与数据打交道\n",
    "\n",
    "PyTorch有两个处理数据的基元：`torch.utils.data.DataLoader` 和 `torch.utils.data.Dataset`。`Dataset` 存储样本及其相应的标签，而 `DataLoader` 则围绕 `Dataset` 包装了一个可迭代的数据。"
   ]
  },
  {
   "cell_type": "code",
   "execution_count": 1,
   "metadata": {
    "collapsed": true
   },
   "outputs": [],
   "source": [
    "import torch  # 导入 torch\n",
    "from torch import nn  # 从 torch 导入 nn 模块，该模块用于构建网络模型\n",
    "from torch.utils.data import DataLoader  # 导入数据集加载器\n",
    "from torchvision import datasets  # 导入视觉相关的数据集\n",
    "from torchvision.transforms import ToTensor  # 从 torchvision 导入视觉相关变换的模块\n",
    "from torch.utils.tensorboard import SummaryWriter  # 导入 tensorboard 用于可视化训练过程"
   ]
  },
  {
   "cell_type": "code",
   "execution_count": 3,
   "metadata": {},
   "outputs": [],
   "source": [
    "writer = SummaryWriter('logs/log_1')  # 实例 SummaryWriter"
   ]
  },
  {
   "cell_type": "markdown",
   "metadata": {},
   "source": [
    "PyTorch提供了特定领域的库，如 TorchText、TorchVision 和 TorchAudio，它们都包括数据集。在本教程中，我们将使用一个 TorchVision 数据集。"
   ]
  },
  {
   "cell_type": "markdown",
   "metadata": {},
   "source": [
    "`torchvision.datasets` 模块包含了许多真实世界的视觉数据的 `Dataset` 对象，如 CIFAR、COCO（[完整列表在此](https://pytorch.org/vision/stable/datasets.html)）。在本教程中，我们使用 FashionMNIST 数据集。每个 TorchVision `Dataset` 都包括两个参数：`transform` 和 `target_transform`，分别用来修改样本和标签。"
   ]
  },
  {
   "cell_type": "code",
   "execution_count": 4,
   "metadata": {},
   "outputs": [],
   "source": [
    "# 从开源数据集中下载训练集数据，命名为 training_data\n",
    "training_data = datasets.FashionMNIST(\n",
    "    root=\"data\",\n",
    "    train=True,\n",
    "    download=True,\n",
    "    transform=ToTensor(),\n",
    ")\n",
    "\n",
    "# 从开源数据集中下载测试集数据，命名为 test_data\n",
    "test_data = datasets.FashionMNIST(\n",
    "    root=\"data\",\n",
    "    train=False,\n",
    "    download=True,\n",
    "    transform=ToTensor(),\n",
    ")"
   ]
  },
  {
   "cell_type": "markdown",
   "metadata": {},
   "source": [
    "我们将 `Dataset` 对象作为参数传递给 `DataLoader`。这在我们的数据集上包装了一个可迭代的数据集，并支持自动批处理、采样、混淆和多进程数据加载。在这里，我们定义了一个 64 的批处理量，即 dataloader 可迭代的每个元素将返回 64 个特征和标签的批次。"
   ]
  },
  {
   "cell_type": "code",
   "execution_count": 5,
   "metadata": {},
   "outputs": [
    {
     "name": "stdout",
     "output_type": "stream",
     "text": [
      "Shape of X [N, C, H, W]: torch.Size([64, 1, 28, 28])\n",
      "Shape of y: torch.Size([64]) torch.int64\n"
     ]
    }
   ],
   "source": [
    "# 设置数据集加载器每一批的数量\n",
    "batch_size = 64\n",
    "\n",
    "# 创建数据加载器，train_dataloader 和 test_dataloader\n",
    "train_dataloader = DataLoader(training_data, batch_size=batch_size)\n",
    "test_dataloader = DataLoader(test_data, batch_size=batch_size)\n",
    "\n",
    "# 以迭代器的方式遍历测试集加载器，并打印第一批数据和标签的形状\n",
    "for X, y in test_dataloader:\n",
    "    print(f\"Shape of X [N, C, H, W]: {X.shape}\")\n",
    "    print(f\"Shape of y: {y.shape} {y.dtype}\")\n",
    "    break"
   ]
  },
  {
   "cell_type": "markdown",
   "metadata": {},
   "source": [
    "了解更多关于[在 PyTorch 中加载数据](https://pytorch.org/tutorials/beginner/basics/data_tutorial.html)。"
   ]
  },
  {
   "cell_type": "markdown",
   "metadata": {},
   "source": [
    "## 创建模型\n",
    "\n",
    "为了在 PyTorch 中定义一个神经网络，我们创建一个继承自 `nn.Module` 的类。我们在 `__init__` 函数中定义网络的层，并在 `forward` 函数中指定数据将如何通过网络。为了加速神经网络的操作，如果有条件的话，我们将其移到GPU上。"
   ]
  },
  {
   "cell_type": "code",
   "execution_count": 6,
   "metadata": {},
   "outputs": [
    {
     "name": "stdout",
     "output_type": "stream",
     "text": [
      "Using cuda device\n",
      "NeuralNetwork(\n",
      "  (flatten): Flatten(start_dim=1, end_dim=-1)\n",
      "  (linear_relu_stack): Sequential(\n",
      "    (0): Linear(in_features=784, out_features=512, bias=True)\n",
      "    (1): ReLU()\n",
      "    (2): Linear(in_features=512, out_features=512, bias=True)\n",
      "    (3): ReLU()\n",
      "    (4): Linear(in_features=512, out_features=10, bias=True)\n",
      "  )\n",
      ")\n"
     ]
    }
   ],
   "source": [
    "# 获取用于训练的 cpu 或 gpu 设备\n",
    "device = \"cuda\" if torch.cuda.is_available() else \"cpu\"\n",
    "print(f\"Using {device} device\")\n",
    "\n",
    "# 定义模型\n",
    "class NeuralNetwork(nn.Module):\n",
    "    def __init__(self):\n",
    "        super().__init__()\n",
    "        self.flatten = nn.Flatten()\n",
    "        self.linear_relu_stack = nn.Sequential(\n",
    "            nn.Linear(28*28, 512),\n",
    "            nn.ReLU(),\n",
    "            nn.Linear(512, 512),\n",
    "            nn.ReLU(),\n",
    "            nn.Linear(512, 10)\n",
    "        )\n",
    "\n",
    "    def forward(self, x):\n",
    "        x = self.flatten(x)\n",
    "        logits = self.linear_relu_stack(x)\n",
    "        return logits\n",
    "\n",
    "# 实例化模型\n",
    "model = NeuralNetwork().to(device)\n",
    "print(model)"
   ]
  },
  {
   "cell_type": "markdown",
   "metadata": {},
   "source": [
    "了解更多关于[在PyTorch中构建神经网络](https://pytorch.org/tutorials/beginner/basics/buildmodel_tutorial.html)。"
   ]
  },
  {
   "cell_type": "markdown",
   "metadata": {},
   "source": [
    "## 优化模型参数\n",
    "\n",
    "为了训练一个模型，我们需要一个损失函数和一个优化器。"
   ]
  },
  {
   "cell_type": "code",
   "execution_count": 7,
   "metadata": {},
   "outputs": [],
   "source": [
    "# 定义交叉熵损失\n",
    "loss_fn = nn.CrossEntropyLoss()\n",
    "# 优化器选用随机梯度下降，学习率设置为 0.001\n",
    "optimizer = torch.optim.SGD(model.parameters(), lr=1e-3)"
   ]
  },
  {
   "cell_type": "markdown",
   "metadata": {},
   "source": [
    "在一个单一的训练循环中，模型对训练数据集（分批送入）进行预测，并通过反向传播预测误差来调整模型的参数。"
   ]
  },
  {
   "cell_type": "code",
   "execution_count": 8,
   "metadata": {},
   "outputs": [],
   "source": [
    "# 定义训练部分函数，传入 dataloader、model、loss_fn、optimizer、epoch 等参数\n",
    "def train(dataloader, model, loss_fn, optimizer, epoch):\n",
    "    size = len(dataloader.dataset)  # 获取 dataloader 的数据集尺寸\n",
    "    model.train()  # 将模型设置为训练模式\n",
    "    # 对 dataloader 分批进行迭代训练\n",
    "    for batch, (X, y) in enumerate(dataloader):\n",
    "        # 将数据部署在 device 上\n",
    "        X, y = X.to(device), y.to(device)\n",
    "\n",
    "        # 计算预测损失\n",
    "        pred = model(X)\n",
    "        loss = loss_fn(pred, y)\n",
    "\n",
    "        # 反向传播\n",
    "        optimizer.zero_grad()  # 梯度清零\n",
    "        loss.backward()  # 反向传播\n",
    "        optimizer.step()  # 更新参数\n",
    "\n",
    "        # 每 100 个批次输出一次训练日志\n",
    "        if batch % 100 == 0:\n",
    "            loss, current = loss.item(), (batch + 1) * len(X)\n",
    "            print(f\"loss: {loss:>7f}  [{current:>5d}/{size:>5d}]\")\n",
    "    writer.add_scalar('training_loss', loss, epoch)"
   ]
  },
  {
   "cell_type": "markdown",
   "metadata": {},
   "source": [
    "我们还需根据测试数据集检查模型的性能，以确保它在进行有效地训练。"
   ]
  },
  {
   "cell_type": "code",
   "execution_count": 9,
   "metadata": {},
   "outputs": [],
   "source": [
    "# 定义测试部分函数，传入 dataloader、model、loss_fn、epoch 等参数\n",
    "def test(dataloader, model, loss_fn, epoch):\n",
    "    size = len(dataloader.dataset)  # 获取 dataloader 的数据集尺寸\n",
    "    num_batches = len(dataloader)  # 获取 dataloader 批次个数\n",
    "    model.eval()  # 将模型设置为预测模式\n",
    "    test_loss, correct = 0, 0  # 初始化 test_loss、correct 为 0\n",
    "    # 在 torch 不自动计算梯度的条件下执行\n",
    "    with torch.no_grad():\n",
    "        # 对 dataloader 分批进行迭代预测\n",
    "        for X, y in dataloader:\n",
    "            # 将数据部署在 device 上\n",
    "            X, y = X.to(device), y.to(device)\n",
    "            # 预测结果 pred\n",
    "            pred = model(X)\n",
    "            # 计算测试集当前批次的损失\n",
    "            test_loss += loss_fn(pred, y).item()\n",
    "            # 计算测试集当前批次的准确度\n",
    "            correct += (pred.argmax(1) == y).type(torch.float).sum().item()\n",
    "    test_loss /= num_batches  # 计算测试集平均损失\n",
    "    correct /= size  # 计算测试集平均准确度，由于准确度累加的是所有样本的结果，所以需要除以数据集总尺寸\n",
    "    # 输出测试日志\n",
    "    print(f\"Test Error: \\n Accuracy: {(100*correct):>0.1f}%, Avg loss: {test_loss:>8f} \\n\")\n",
    "    writer.add_scalar('test_loss', test_loss, epoch)\n",
    "    writer.add_scalar('accuracy', correct, epoch)"
   ]
  },
  {
   "cell_type": "markdown",
   "metadata": {},
   "source": [
    "训练过程是通过几个迭代（epochs）进行的。在每个 epoch 中，模型学习参数以做出更好的预测。我们在每个 epoch 中打印模型的准确度和损失；我们希望看到准确度在每个 epoch 中增加，损失在每个 epoch 中减少。"
   ]
  },
  {
   "cell_type": "code",
   "execution_count": null,
   "metadata": {},
   "outputs": [],
   "source": [
    "# 定义 epochs\n",
    "epochs = 30\n",
    "# 迭代训练 epochs 次\n",
    "for t in range(epochs):\n",
    "    # 打印当前是第几个 epoch\n",
    "    print(f\"Epoch {t+1}\\n-------------------------------\")\n",
    "    train(train_dataloader, model, loss_fn, optimizer, t)\n",
    "    test(test_dataloader, model, loss_fn, t)\n",
    "# 训练结束，关闭 writer\n",
    "print(\"Done!\")\n",
    "writer.flush()"
   ]
  },
  {
   "cell_type": "markdown",
   "metadata": {},
   "source": [
    "## 保存模型\n",
    "\n",
    "保存模型的一个常见方法是序列化内部状态字典（包含模型参数）。"
   ]
  },
  {
   "cell_type": "code",
   "execution_count": 11,
   "metadata": {},
   "outputs": [
    {
     "name": "stdout",
     "output_type": "stream",
     "text": [
      "Saved PyTorch Model State to model.pth\n"
     ]
    }
   ],
   "source": [
    "# 保存模型参数\n",
    "torch.save(model.state_dict(), \"checkpoints/model.pth\")\n",
    "print(\"Saved PyTorch Model State to model.pth\")"
   ]
  },
  {
   "cell_type": "markdown",
   "metadata": {},
   "source": [
    "这个模型现在可以用来进行预测。"
   ]
  },
  {
   "cell_type": "code",
   "execution_count": 22,
   "metadata": {},
   "outputs": [
    {
     "name": "stdout",
     "output_type": "stream",
     "text": [
      "Predicted: \"Ankle boot\", Actual: \"Ankle boot\", Result: True\n",
      "Predicted: \"Pullover\", Actual: \"Pullover\", Result: True\n",
      "Predicted: \"Trouser\", Actual: \"Trouser\", Result: True\n",
      "Predicted: \"Trouser\", Actual: \"Trouser\", Result: True\n",
      "Predicted: \"Shirt\", Actual: \"Shirt\", Result: True\n"
     ]
    }
   ],
   "source": [
    "classes = [\n",
    "    \"T-shirt/top\",\n",
    "    \"Trouser\",\n",
    "    \"Pullover\",\n",
    "    \"Dress\",\n",
    "    \"Coat\",\n",
    "    \"Sandal\",\n",
    "    \"Shirt\",\n",
    "    \"Sneaker\",\n",
    "    \"Bag\",\n",
    "    \"Ankle boot\",\n",
    "]\n",
    "\n",
    "model.eval()\n",
    "with torch.no_grad():\n",
    "    for i in range(5):\n",
    "        x, y = test_data[i][0], test_data[i][1]\n",
    "        pred = model(x.to(device))\n",
    "        predicted, actual = classes[pred[0].argmax(0)], classes[y]\n",
    "        print(f'Predicted: \"{predicted}\", Actual: \"{actual}\", Result: {predicted == actual}')"
   ]
  },
  {
   "cell_type": "code",
   "execution_count": null,
   "metadata": {},
   "outputs": [],
   "source": []
  }
 ],
 "metadata": {
  "kernelspec": {
   "display_name": "Python 3 (ipykernel)",
   "language": "python",
   "name": "python3"
  },
  "language_info": {
   "codemirror_mode": {
    "name": "ipython",
    "version": 3
   },
   "file_extension": ".py",
   "mimetype": "text/x-python",
   "name": "python",
   "nbconvert_exporter": "python",
   "pygments_lexer": "ipython3",
   "version": "3.10.10"
  }
 },
 "nbformat": 4,
 "nbformat_minor": 1
}
