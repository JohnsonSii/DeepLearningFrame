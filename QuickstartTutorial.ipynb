{
 "cells": [
  {
   "cell_type": "markdown",
   "metadata": {},
   "source": [
    "# QUICKSTART\n",
    "\n",
    "本节介绍了机器学习中常见任务的API。请参考每一节中的链接来深入了解。"
   ]
  },
  {
   "cell_type": "markdown",
   "metadata": {},
   "source": [
    "## 与数据打交道\n",
    "\n",
    "PyTorch有两个处理数据的基元：`torch.utils.data.DataLoader` 和 `torch.utils.data.Dataset`。`Dataset` 存储样本及其相应的标签，而 `DataLoader` 则围绕 `Dataset` 包装了一个可迭代的数据。"
   ]
  },
  {
   "cell_type": "code",
   "execution_count": 2,
   "metadata": {
    "collapsed": true,
    "ExecuteTime": {
     "start_time": "2023-04-02T03:15:43.321199Z",
     "end_time": "2023-04-02T03:15:45.668433Z"
    }
   },
   "outputs": [],
   "source": [
    "import torch  # 导入 torch\n",
    "from torch import nn  # 从 torch 导入 nn 模块，该模块用于构建网络模型\n",
    "from torch.utils.data import DataLoader  # 导入数据集加载器\n",
    "from torchvision import datasets  # 导入视觉相关的数据集\n",
    "from torchvision.transforms import ToTensor  # 从 torchvision 导入视觉相关变换的模块\n",
    "from torch.utils.tensorboard import SummaryWriter  # 导入 tensorboard 用于可视化训练过程"
   ]
  },
  {
   "cell_type": "code",
   "execution_count": 2,
   "metadata": {
    "ExecuteTime": {
     "start_time": "2023-04-02T00:52:42.019645Z",
     "end_time": "2023-04-02T00:52:42.044829Z"
    }
   },
   "outputs": [],
   "source": [
    "writer = SummaryWriter('logs/log_2')  # 实例 SummaryWriter"
   ]
  },
  {
   "cell_type": "markdown",
   "metadata": {},
   "source": [
    "PyTorch提供了特定领域的库，如 TorchText、TorchVision 和 TorchAudio，它们都包括数据集。在本教程中，我们将使用一个 TorchVision 数据集。"
   ]
  },
  {
   "cell_type": "markdown",
   "metadata": {},
   "source": [
    "`torchvision.datasets` 模块包含了许多真实世界的视觉数据的 `Dataset` 对象，如 CIFAR、COCO（[完整列表在此](https://pytorch.org/vision/stable/datasets.html)）。在本教程中，我们使用 FashionMNIST 数据集。每个 TorchVision `Dataset` 都包括两个参数：`transform` 和 `target_transform`，分别用来修改样本和标签。"
   ]
  },
  {
   "cell_type": "code",
   "execution_count": 3,
   "metadata": {
    "ExecuteTime": {
     "start_time": "2023-04-02T00:52:44.542824Z",
     "end_time": "2023-04-02T00:52:44.653577Z"
    }
   },
   "outputs": [],
   "source": [
    "# 从开源数据集中下载训练集数据，命名为 training_data\n",
    "training_data = datasets.FashionMNIST(\n",
    "    root=\"data\",\n",
    "    train=True,\n",
    "    download=True,\n",
    "    transform=ToTensor(),\n",
    ")\n",
    "\n",
    "# 从开源数据集中下载测试集数据，命名为 test_data\n",
    "test_data = datasets.FashionMNIST(\n",
    "    root=\"data\",\n",
    "    train=False,\n",
    "    download=True,\n",
    "    transform=ToTensor(),\n",
    ")\n"
   ]
  },
  {
   "cell_type": "markdown",
   "metadata": {},
   "source": [
    "我们将 `Dataset` 对象作为参数传递给 `DataLoader`。这在我们的数据集上包装了一个可迭代的数据集，并支持自动批处理、采样、混淆和多进程数据加载。在这里，我们定义了一个 64 的批处理量，即 dataloader 可迭代的每个元素将返回 64 个特征和标签的批次。"
   ]
  },
  {
   "cell_type": "code",
   "execution_count": 4,
   "metadata": {
    "ExecuteTime": {
     "start_time": "2023-04-02T00:52:46.649240Z",
     "end_time": "2023-04-02T00:52:46.701579Z"
    }
   },
   "outputs": [
    {
     "name": "stdout",
     "output_type": "stream",
     "text": [
      "Shape of X [N, C, H, W]: torch.Size([64, 1, 28, 28])\n",
      "Shape of y: torch.int64\n"
     ]
    }
   ],
   "source": [
    "# 设置数据集加载器每一批的数量\n",
    "batch_size = 64\n",
    "\n",
    "# 创建数据加载器，train_dataloader 和 test_dataloader\n",
    "train_dataloader = DataLoader(training_data, batch_size=batch_size, shuffle=True)\n",
    "test_dataloader = DataLoader(test_data, batch_size=batch_size, shuffle=False)\n",
    "\n",
    "# 以迭代器的方式遍历测试集加载器，并打印第一批数据和标签的形状\n",
    "for X, y in test_dataloader:\n",
    "    print(f\"Shape of X [N, C, H, W]: {X.shape}\")\n",
    "    print(f\"Shape of y: {y.dtype}\")\n",
    "    break"
   ]
  },
  {
   "cell_type": "markdown",
   "metadata": {},
   "source": [
    "了解更多关于[在 PyTorch 中加载数据](https://pytorch.org/tutorials/beginner/basics/data_tutorial.html)。"
   ]
  },
  {
   "cell_type": "markdown",
   "metadata": {},
   "source": [
    "## 创建模型\n",
    "\n",
    "为了在 PyTorch 中定义一个神经网络，我们创建一个继承自 `nn.Module` 的类。我们在 `__init__` 函数中定义网络的层，并在 `forward` 函数中指定数据将如何通过网络。为了加速神经网络的操作，如果有条件的话，我们将其移到GPU上。"
   ]
  },
  {
   "cell_type": "code",
   "execution_count": 3,
   "metadata": {
    "ExecuteTime": {
     "start_time": "2023-04-02T03:15:49.208207Z",
     "end_time": "2023-04-02T03:15:49.445573Z"
    }
   },
   "outputs": [
    {
     "name": "stdout",
     "output_type": "stream",
     "text": [
      "DataParallel(\n",
      "  (module): NeuralNetwork(\n",
      "    (flatten): Flatten(start_dim=1, end_dim=-1)\n",
      "    (linear_relu_stack): Sequential(\n",
      "      (0): Linear(in_features=784, out_features=512, bias=True)\n",
      "      (1): ReLU()\n",
      "      (2): Linear(in_features=512, out_features=512, bias=True)\n",
      "      (3): ReLU()\n",
      "      (4): Linear(in_features=512, out_features=10, bias=True)\n",
      "    )\n",
      "  )\n",
      ")\n"
     ]
    }
   ],
   "source": [
    "# 获取用于训练的 cpu 或 gpu 设备\n",
    "# device = \"cuda\" if torch.cuda.is_available() else \"cpu\"\n",
    "# print(f\"Using {device} device\")\n",
    "\n",
    "# 定义模型\n",
    "class NeuralNetwork(nn.Module):\n",
    "    def __init__(self):\n",
    "        super().__init__()\n",
    "        self.flatten = nn.Flatten()\n",
    "        self.linear_relu_stack = nn.Sequential(\n",
    "            nn.Linear(28*28, 512),\n",
    "            nn.ReLU(),\n",
    "            nn.Linear(512, 512),\n",
    "            nn.ReLU(),\n",
    "            nn.Linear(512, 10)\n",
    "        )\n",
    "    def forward(self, x):\n",
    "        x = self.flatten(x)\n",
    "        logits = self.linear_relu_stack(x)\n",
    "        return logits\n",
    "\n",
    "# 实例化模型\n",
    "model = NeuralNetwork()\n",
    "model = nn.DataParallel(model.cuda())\n",
    "print(model)"
   ]
  },
  {
   "cell_type": "markdown",
   "metadata": {},
   "source": [
    "了解更多关于[在PyTorch中构建神经网络](https://pytorch.org/tutorials/beginner/basics/buildmodel_tutorial.html)。"
   ]
  },
  {
   "cell_type": "markdown",
   "metadata": {},
   "source": [
    "## 优化模型参数\n",
    "\n",
    "为了训练一个模型，我们需要一个损失函数和一个优化器。"
   ]
  },
  {
   "cell_type": "code",
   "execution_count": 20,
   "metadata": {},
   "outputs": [],
   "source": [
    "# 定义交叉熵损失\n",
    "loss_fn = nn.CrossEntropyLoss()\n",
    "\n",
    "# 优化器选用随机梯度下降，学习率设置为 0.001\n",
    "optimizer = torch.optim.SGD(model.parameters(), lr=1e-3)\n"
   ]
  },
  {
   "cell_type": "markdown",
   "metadata": {},
   "source": [
    "在一个单一的训练循环中，模型对训练数据集（分批送入）进行预测，并通过反向传播预测误差来调整模型的参数。"
   ]
  },
  {
   "cell_type": "code",
   "execution_count": 22,
   "metadata": {},
   "outputs": [],
   "source": [
    "# 定义训练部分函数，传入 dataloader、model、loss_fn、optimizer、epoch 等参数\n",
    "def train(dataloader, model, loss_fn, optimizer, epoch):\n",
    "    # 获取 dataloader 的数据集尺寸\n",
    "    size = len(dataloader.dataset)\n",
    "\n",
    "    # 将模型设置为训练模式\n",
    "    model.train()\n",
    "\n",
    "    # 对 dataloader 分批进行迭代训练\n",
    "    for batch, (X, y) in enumerate(dataloader):\n",
    "        # 将数据部署在 device 上\n",
    "        X, y = X.cuda(), y.cuda()\n",
    "\n",
    "        # 计算预测损失\n",
    "        pred = model(X)\n",
    "        loss = loss_fn(pred, y)\n",
    "\n",
    "        # 反向传播\n",
    "        optimizer.zero_grad()  # 梯度清零\n",
    "        loss.backward()  # 反向传播\n",
    "        optimizer.step()  # 更新参数\n",
    "\n",
    "        # 每 100 个批次输出一次训练日志\n",
    "        if batch % 100 == 0:\n",
    "            loss, current = loss.item(), (batch + 1) * len(X)\n",
    "            print(f\"loss: {loss:>7f}    [{current:>5d}/{size:>5d}]\")\n",
    "    writer.add_scalar('training_loss', loss, epoch)"
   ]
  },
  {
   "cell_type": "markdown",
   "metadata": {},
   "source": [
    "我们还需根据测试数据集检查模型的性能，以确保它在进行有效地训练。"
   ]
  },
  {
   "cell_type": "code",
   "execution_count": 23,
   "metadata": {},
   "outputs": [],
   "source": [
    "# 定义测试部分函数，传入 dataloader、model、loss_fn、epoch 等参数\n",
    "def test(dataloader, model, loss_fn, epoch):\n",
    "    # 获取 dataloader 的数据集尺寸\n",
    "    size = len(dataloader.dataset)\n",
    "    # 获取 dataloader 批次个数\n",
    "    num_batches = len(dataloader)\n",
    "    # 将模型设置为预测模式\n",
    "    model.eval()\n",
    "    # 初始化 test_loss、correct 为 0\n",
    "    test_loss, correct = 0, 0\n",
    "    # 在 torch 不自动计算梯度的条件下执行\n",
    "    with torch.no_grad():\n",
    "        # 对 dataloader 分批进行迭代预测\n",
    "        for X, y in dataloader:\n",
    "            # 将数据部署在 device 上\n",
    "            X, y = X.cuda(), y.cuda()\n",
    "            # 预测结果 pred\n",
    "            pred = model(X)\n",
    "            # 计算测试集当前批次的损失\n",
    "            test_loss += loss_fn(pred, y)\n",
    "            # 计算测试集当前批次的准确度\n",
    "            correct += (pred.argmax(1) == y).type(torch.float).sum().item()\n",
    "    test_loss /= num_batches  # 计算测试集平均损失\n",
    "    correct /= size  # 计算测试集平均准确度，由于准确度累加的是所有样本的结果，所以需要除以数据集总尺寸\n",
    "\n",
    "    # 输出测试日志\n",
    "    print(f\"Test Error: \\n Accuracy: {(100*correct):>0.1f}%, Avg loss: {test_loss:>8f} \\n\")\n",
    "    writer.add_scalar('test_loss', test_loss, epoch)\n",
    "    writer.add_scalar('accuracy', correct, epoch)"
   ]
  },
  {
   "cell_type": "markdown",
   "metadata": {},
   "source": [
    "训练过程是通过几个迭代（epochs）进行的。在每个 epoch 中，模型学习参数以做出更好的预测。我们在每个 epoch 中打印模型的准确度和损失；我们希望看到准确度在每个 epoch 中增加，损失在每个 epoch 中减少。"
   ]
  },
  {
   "cell_type": "code",
   "execution_count": 24,
   "metadata": {},
   "outputs": [
    {
     "name": "stdout",
     "output_type": "stream",
     "text": [
      "Epoch 1\n",
      "--------------------------------\n",
      "loss: 2.312794    [   64/60000]\n",
      "loss: 2.290226    [ 6464/60000]\n",
      "loss: 2.285262    [12864/60000]\n",
      "loss: 2.271553    [19264/60000]\n",
      "loss: 2.244183    [25664/60000]\n",
      "loss: 2.234456    [32064/60000]\n",
      "loss: 2.224790    [38464/60000]\n",
      "loss: 2.229638    [44864/60000]\n",
      "loss: 2.216705    [51264/60000]\n",
      "loss: 2.189452    [57664/60000]\n",
      "Test Error: \n",
      " Accuracy: 43.7%, Avg loss: 2.169439 \n",
      "\n",
      "Epoch 2\n",
      "--------------------------------\n",
      "loss: 2.160762    [   64/60000]\n",
      "loss: 2.129711    [ 6464/60000]\n",
      "loss: 2.167295    [12864/60000]\n",
      "loss: 2.143079    [19264/60000]\n",
      "loss: 2.075144    [25664/60000]\n",
      "loss: 2.049515    [32064/60000]\n",
      "loss: 2.026561    [38464/60000]\n",
      "loss: 2.031681    [44864/60000]\n",
      "loss: 1.980364    [51264/60000]\n",
      "loss: 1.930782    [57664/60000]\n",
      "Test Error: \n",
      " Accuracy: 55.1%, Avg loss: 1.904456 \n",
      "\n",
      "Epoch 3\n",
      "--------------------------------\n",
      "loss: 1.856879    [   64/60000]\n",
      "loss: 1.849523    [ 6464/60000]\n",
      "loss: 1.789931    [12864/60000]\n",
      "loss: 1.808090    [19264/60000]\n",
      "loss: 1.754866    [25664/60000]\n",
      "loss: 1.704027    [32064/60000]\n",
      "loss: 1.682864    [38464/60000]\n",
      "loss: 1.626362    [44864/60000]\n",
      "loss: 1.564889    [51264/60000]\n",
      "loss: 1.421038    [57664/60000]\n",
      "Test Error: \n",
      " Accuracy: 62.7%, Avg loss: 1.537137 \n",
      "\n",
      "Epoch 4\n",
      "--------------------------------\n",
      "loss: 1.591574    [   64/60000]\n",
      "loss: 1.500337    [ 6464/60000]\n",
      "loss: 1.492370    [12864/60000]\n",
      "loss: 1.447432    [19264/60000]\n",
      "loss: 1.470277    [25664/60000]\n",
      "loss: 1.336061    [32064/60000]\n",
      "loss: 1.313474    [38464/60000]\n",
      "loss: 1.320056    [44864/60000]\n",
      "loss: 1.421459    [51264/60000]\n",
      "loss: 1.304492    [57664/60000]\n",
      "Test Error: \n",
      " Accuracy: 64.3%, Avg loss: 1.268064 \n",
      "\n",
      "Epoch 5\n",
      "--------------------------------\n",
      "loss: 1.251349    [   64/60000]\n",
      "loss: 1.199664    [ 6464/60000]\n",
      "loss: 1.165545    [12864/60000]\n",
      "loss: 1.110706    [19264/60000]\n",
      "loss: 1.300472    [25664/60000]\n",
      "loss: 1.136148    [32064/60000]\n",
      "loss: 1.095527    [38464/60000]\n",
      "loss: 1.097518    [44864/60000]\n",
      "loss: 1.077550    [51264/60000]\n",
      "loss: 1.137080    [57664/60000]\n",
      "Test Error: \n",
      " Accuracy: 65.2%, Avg loss: 1.097229 \n",
      "\n",
      "Epoch 6\n",
      "--------------------------------\n",
      "loss: 1.032080    [   64/60000]\n",
      "loss: 0.991583    [ 6464/60000]\n",
      "loss: 1.039527    [12864/60000]\n",
      "loss: 1.119440    [19264/60000]\n",
      "loss: 1.082269    [25664/60000]\n",
      "loss: 0.952522    [32064/60000]\n",
      "loss: 0.957908    [38464/60000]\n",
      "loss: 1.088643    [44864/60000]\n",
      "loss: 1.040007    [51264/60000]\n",
      "loss: 1.061671    [57664/60000]\n",
      "Test Error: \n",
      " Accuracy: 66.3%, Avg loss: 0.985627 \n",
      "\n",
      "Epoch 7\n",
      "--------------------------------\n",
      "loss: 1.004320    [   64/60000]\n",
      "loss: 0.906986    [ 6464/60000]\n",
      "loss: 1.052562    [12864/60000]\n",
      "loss: 0.814408    [19264/60000]\n",
      "loss: 1.000227    [25664/60000]\n",
      "loss: 0.822791    [32064/60000]\n",
      "loss: 0.859749    [38464/60000]\n",
      "loss: 0.941149    [44864/60000]\n",
      "loss: 0.929804    [51264/60000]\n",
      "loss: 0.883337    [57664/60000]\n",
      "Test Error: \n",
      " Accuracy: 67.0%, Avg loss: 0.909927 \n",
      "\n",
      "Epoch 8\n",
      "--------------------------------\n",
      "loss: 1.101191    [   64/60000]\n",
      "loss: 0.783520    [ 6464/60000]\n",
      "loss: 0.870735    [12864/60000]\n",
      "loss: 0.886031    [19264/60000]\n",
      "loss: 0.787456    [25664/60000]\n",
      "loss: 0.945876    [32064/60000]\n",
      "loss: 0.902370    [38464/60000]\n",
      "loss: 0.852298    [44864/60000]\n",
      "loss: 0.784508    [51264/60000]\n",
      "loss: 1.067093    [57664/60000]\n",
      "Test Error: \n",
      " Accuracy: 68.8%, Avg loss: 0.855318 \n",
      "\n",
      "Epoch 9\n",
      "--------------------------------\n",
      "loss: 0.873968    [   64/60000]\n",
      "loss: 0.764354    [ 6464/60000]\n",
      "loss: 0.765295    [12864/60000]\n",
      "loss: 0.636959    [19264/60000]\n",
      "loss: 0.754440    [25664/60000]\n",
      "loss: 0.928466    [32064/60000]\n",
      "loss: 0.916137    [38464/60000]\n",
      "loss: 0.789210    [44864/60000]\n",
      "loss: 0.788158    [51264/60000]\n",
      "loss: 0.872627    [57664/60000]\n",
      "Test Error: \n",
      " Accuracy: 69.8%, Avg loss: 0.814586 \n",
      "\n",
      "Epoch 10\n",
      "--------------------------------\n",
      "loss: 0.835771    [   64/60000]\n",
      "loss: 0.715873    [ 6464/60000]\n",
      "loss: 0.781617    [12864/60000]\n",
      "loss: 0.763418    [19264/60000]\n",
      "loss: 1.035893    [25664/60000]\n",
      "loss: 0.798675    [32064/60000]\n",
      "loss: 0.741396    [38464/60000]\n",
      "loss: 1.014610    [44864/60000]\n",
      "loss: 0.727108    [51264/60000]\n",
      "loss: 0.760159    [57664/60000]\n",
      "Test Error: \n",
      " Accuracy: 71.2%, Avg loss: 0.782448 \n",
      "\n",
      "Epoch 11\n",
      "--------------------------------\n",
      "loss: 0.729543    [   64/60000]\n",
      "loss: 0.934295    [ 6464/60000]\n",
      "loss: 0.673422    [12864/60000]\n",
      "loss: 0.764777    [19264/60000]\n",
      "loss: 0.772406    [25664/60000]\n",
      "loss: 0.891468    [32064/60000]\n",
      "loss: 0.992482    [38464/60000]\n",
      "loss: 0.616416    [44864/60000]\n",
      "loss: 0.709535    [51264/60000]\n",
      "loss: 0.844780    [57664/60000]\n",
      "Test Error: \n",
      " Accuracy: 72.2%, Avg loss: 0.755448 \n",
      "\n",
      "Epoch 12\n",
      "--------------------------------\n",
      "loss: 0.667796    [   64/60000]\n",
      "loss: 0.850836    [ 6464/60000]\n",
      "loss: 0.729603    [12864/60000]\n",
      "loss: 0.811954    [19264/60000]\n",
      "loss: 0.712986    [25664/60000]\n",
      "loss: 0.730068    [32064/60000]\n",
      "loss: 0.694866    [38464/60000]\n",
      "loss: 0.827613    [44864/60000]\n",
      "loss: 0.619147    [51264/60000]\n",
      "loss: 0.682594    [57664/60000]\n",
      "Test Error: \n",
      " Accuracy: 73.6%, Avg loss: 0.732489 \n",
      "\n",
      "Epoch 13\n",
      "--------------------------------\n",
      "loss: 0.831146    [   64/60000]\n",
      "loss: 0.621068    [ 6464/60000]\n",
      "loss: 0.676407    [12864/60000]\n",
      "loss: 0.844114    [19264/60000]\n",
      "loss: 0.755315    [25664/60000]\n",
      "loss: 0.629831    [32064/60000]\n",
      "loss: 0.591737    [38464/60000]\n",
      "loss: 0.605246    [44864/60000]\n",
      "loss: 0.629813    [51264/60000]\n",
      "loss: 0.624996    [57664/60000]\n",
      "Test Error: \n",
      " Accuracy: 74.4%, Avg loss: 0.712615 \n",
      "\n",
      "Epoch 14\n",
      "--------------------------------\n",
      "loss: 0.638646    [   64/60000]\n",
      "loss: 0.580169    [ 6464/60000]\n",
      "loss: 0.753278    [12864/60000]\n",
      "loss: 0.605327    [19264/60000]\n",
      "loss: 0.615026    [25664/60000]\n",
      "loss: 0.719098    [32064/60000]\n",
      "loss: 0.733926    [38464/60000]\n",
      "loss: 0.608626    [44864/60000]\n",
      "loss: 0.768334    [51264/60000]\n",
      "loss: 0.644930    [57664/60000]\n",
      "Test Error: \n",
      " Accuracy: 75.3%, Avg loss: 0.694234 \n",
      "\n",
      "Epoch 15\n",
      "--------------------------------\n",
      "loss: 0.774861    [   64/60000]\n",
      "loss: 0.702901    [ 6464/60000]\n",
      "loss: 0.584284    [12864/60000]\n",
      "loss: 0.589184    [19264/60000]\n",
      "loss: 0.573295    [25664/60000]\n",
      "loss: 0.571347    [32064/60000]\n",
      "loss: 0.668568    [38464/60000]\n",
      "loss: 0.818180    [44864/60000]\n",
      "loss: 0.636851    [51264/60000]\n",
      "loss: 0.726305    [57664/60000]\n",
      "Test Error: \n",
      " Accuracy: 76.0%, Avg loss: 0.677801 \n",
      "\n",
      "Done!\n"
     ]
    }
   ],
   "source": [
    "# 定义 epochs\n",
    "epochs = 15\n",
    "# 迭代训练 epochs 次\n",
    "for t in range(epochs):\n",
    "    # 打印当前是第几个 epoch\n",
    "    print(f\"Epoch {t + 1}\\n--------------------------------\")\n",
    "    train(train_dataloader, model, loss_fn, optimizer, t)\n",
    "    test(test_dataloader, model, loss_fn, t)\n",
    "\n",
    "# 训练结束，关闭 writer\n",
    "print(\"Done!\")\n",
    "writer.flush()"
   ]
  },
  {
   "cell_type": "markdown",
   "metadata": {},
   "source": [
    "## 保存模型\n",
    "\n",
    "保存模型的一个常见方法是序列化内部状态字典（包含模型参数）。"
   ]
  },
  {
   "cell_type": "code",
   "execution_count": 11,
   "metadata": {},
   "outputs": [
    {
     "name": "stdout",
     "output_type": "stream",
     "text": [
      "Saved PyTorch Model State to model.pth\n"
     ]
    }
   ],
   "source": [
    "# 保存模型参数\n",
    "torch.save(model.state_dict(), \"checkpoints/model2.pth\")\n",
    "print(\"Saved PyTorch Model State to model2.pth\")"
   ]
  },
  {
   "cell_type": "markdown",
   "metadata": {},
   "source": [
    "这个模型现在可以用来进行预测。"
   ]
  },
  {
   "cell_type": "code",
   "execution_count": 26,
   "metadata": {},
   "outputs": [
    {
     "name": "stdout",
     "output_type": "stream",
     "text": [
      "Predicted: \"Ankle boot\", Actual: \"Ankle boot\", Result: True\n",
      "Predicted: \"Pullover\", Actual: \"Pullover\", Result: True\n",
      "Predicted: \"Trouser\", Actual: \"Trouser\", Result: True\n",
      "Predicted: \"Trouser\", Actual: \"Trouser\", Result: True\n",
      "Predicted: \"Shirt\", Actual: \"Shirt\", Result: True\n",
      "Predicted: \"Trouser\", Actual: \"Trouser\", Result: True\n",
      "Predicted: \"Coat\", Actual: \"Coat\", Result: True\n",
      "Predicted: \"Coat\", Actual: \"Shirt\", Result: False\n",
      "Predicted: \"Sneaker\", Actual: \"Sandal\", Result: False\n",
      "Predicted: \"Sneaker\", Actual: \"Sneaker\", Result: True\n",
      "Predicted: \"Pullover\", Actual: \"Coat\", Result: False\n",
      "Predicted: \"Sandal\", Actual: \"Sandal\", Result: True\n",
      "Predicted: \"Sandal\", Actual: \"Sneaker\", Result: False\n",
      "Predicted: \"Dress\", Actual: \"Dress\", Result: True\n",
      "Predicted: \"Coat\", Actual: \"Coat\", Result: True\n",
      "Predicted: \"Trouser\", Actual: \"Trouser\", Result: True\n",
      "Predicted: \"Pullover\", Actual: \"Pullover\", Result: True\n",
      "Predicted: \"Pullover\", Actual: \"Coat\", Result: False\n",
      "Predicted: \"Bag\", Actual: \"Bag\", Result: True\n",
      "Predicted: \"T-shirt/top\", Actual: \"T-shirt/top\", Result: True\n",
      "Predicted: \"T-shirt/top\", Actual: \"Pullover\", Result: False\n",
      "Predicted: \"Sneaker\", Actual: \"Sandal\", Result: False\n",
      "Predicted: \"Sneaker\", Actual: \"Sneaker\", Result: True\n",
      "Predicted: \"Sneaker\", Actual: \"Ankle boot\", Result: False\n",
      "Predicted: \"Trouser\", Actual: \"Trouser\", Result: True\n",
      "Predicted: \"Pullover\", Actual: \"Coat\", Result: False\n",
      "Predicted: \"Coat\", Actual: \"Shirt\", Result: False\n",
      "Predicted: \"Dress\", Actual: \"T-shirt/top\", Result: False\n",
      "Predicted: \"Ankle boot\", Actual: \"Ankle boot\", Result: True\n",
      "Predicted: \"Dress\", Actual: \"Dress\", Result: True\n",
      "Predicted: \"Bag\", Actual: \"Bag\", Result: True\n",
      "Predicted: \"Bag\", Actual: \"Bag\", Result: True\n",
      "Predicted: \"Dress\", Actual: \"Dress\", Result: True\n",
      "Predicted: \"Dress\", Actual: \"Dress\", Result: True\n",
      "Predicted: \"Bag\", Actual: \"Bag\", Result: True\n",
      "Predicted: \"T-shirt/top\", Actual: \"T-shirt/top\", Result: True\n",
      "Predicted: \"Sneaker\", Actual: \"Sneaker\", Result: True\n",
      "Predicted: \"Sneaker\", Actual: \"Sandal\", Result: False\n",
      "Predicted: \"Sneaker\", Actual: \"Sneaker\", Result: True\n",
      "Predicted: \"Ankle boot\", Actual: \"Ankle boot\", Result: True\n",
      "Predicted: \"T-shirt/top\", Actual: \"Shirt\", Result: False\n",
      "Predicted: \"Trouser\", Actual: \"Trouser\", Result: True\n",
      "Predicted: \"Dress\", Actual: \"Dress\", Result: True\n",
      "Predicted: \"Ankle boot\", Actual: \"Sneaker\", Result: False\n",
      "Predicted: \"Shirt\", Actual: \"Shirt\", Result: True\n",
      "Predicted: \"Ankle boot\", Actual: \"Sneaker\", Result: False\n",
      "Predicted: \"Pullover\", Actual: \"Pullover\", Result: True\n",
      "Predicted: \"Trouser\", Actual: \"Trouser\", Result: True\n",
      "Predicted: \"Coat\", Actual: \"Pullover\", Result: False\n",
      "Predicted: \"Pullover\", Actual: \"Pullover\", Result: True\n"
     ]
    }
   ],
   "source": [
    "classes = [\n",
    "    \"T-shirt/top\",\n",
    "    \"Trouser\",\n",
    "    \"Pullover\",\n",
    "    \"Dress\",\n",
    "    \"Coat\",\n",
    "    \"Sandal\",\n",
    "    \"Shirt\",\n",
    "    \"Sneaker\",\n",
    "    \"Bag\",\n",
    "    \"Ankle boot\",\n",
    "]\n",
    "model.eval()\n",
    "with torch.no_grad():\n",
    "    for i in range(50):\n",
    "        x, y = test_data[i][0], test_data[i][1]\n",
    "        pred = model(x.cuda())\n",
    "        predicted, actual = classes[pred[0].argmax(0)], classes[y]\n",
    "        print(f'Predicted: \"{predicted}\", Actual: \"{actual}\", Result: {predicted == actual}')"
   ]
  },
  {
   "cell_type": "code",
   "execution_count": null,
   "metadata": {},
   "outputs": [],
   "source": []
  }
 ],
 "metadata": {
  "kernelspec": {
   "display_name": "Python 3 (ipykernel)",
   "language": "python",
   "name": "python3"
  },
  "language_info": {
   "codemirror_mode": {
    "name": "ipython",
    "version": 3
   },
   "file_extension": ".py",
   "mimetype": "text/x-python",
   "name": "python",
   "nbconvert_exporter": "python",
   "pygments_lexer": "ipython3",
   "version": "3.10.10"
  }
 },
 "nbformat": 4,
 "nbformat_minor": 1
}
